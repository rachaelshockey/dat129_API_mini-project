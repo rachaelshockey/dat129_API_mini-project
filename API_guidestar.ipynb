{
 "cells": [
  {
   "cell_type": "markdown",
   "metadata": {},
   "source": [
    "# Annual Charitable Giving Rates among U.S. Foundations - A Guidestar API Demo"
   ]
  },
  {
   "cell_type": "markdown",
   "metadata": {},
   "source": [
    "In the U.S. philanthropic realm, there is a well-known tax rule applied to foundations known as the \"Five Percent Payout Rule.\" [The Council on Foundations describes offers the following definition](https://www.ncfp.org/wp-content/uploads/2018/09/The-Five-Percent-Minimum-Payout-Requirement-COF-2000-the-five-percent-minimum-payout-requirement.pdf):\n",
    "\n",
    "> Each year every private foundation must make eligible charitable expenditures that equal or exceed approximately 5\n",
    "> percent of the value of its endowment. The word \"payout\" while convenient is somewhat misleading and is not used in the   > Tax Code section that creates the rule. The word \"payout\" suggests grants or contributions paid out to other charities.  > Although these grants normally make up more than 93 percent of the expenditures of most foundations, many other expenses  > can also qualify in meeting the minimum payout requirement. In short, the 5 percent payout rule need not be satisfied\n",
    "> solely with grants.\n",
    "\n",
    "The program below uses an [API from Guidestar](https://apiportal.guidestar.org/api-static-documentation-v2)--a free charity watchdog service that is widely used by funders and charities alike--to parse a given foundation's tax forms (Form 990) to determine what percentage of a foundation's assets was donated to charity in their most recently reported tax year. Users do need to request a key from Guidestar (I got a response within 48 hours of requesting one). The API takes in one nonprofit entity at a time and returns a wealth of data on that entity's financial health, mission, staffing, programs, etc. The API draws on the entity's tax forms and other online data sources. \n",
    "\n",
    "As explained in the quote above, because a foundation's total expenses reported on their tax forms may include non-charitable expenses (i.e. their own operating costs can count toward the 5% payout), we have to dig a little deeper in the 990 to find the actual amount paid out to charities. A form 990 can be a very dense document to sift through. The Guidestar API makes it much easier to find specific indicators of a charity's financial practices and overall health. To search for a specific charity, the only piece of information you need to provide is the organization's IRS-issued employer identification number, known as an EIN. "
   ]
  },
  {
   "cell_type": "markdown",
   "metadata": {},
   "source": [
    "To test this out and create a sampling of charitable giving rates, I looked up the EINs for some of the largest charitable foundations in the U.S.  \n",
    "\n",
    "* Bill and Melinda Gates Foundation: 56-2618866\n",
    "* Chan Zuckerberg Initiative Foundation: 45-5002209\n",
    "* Bloomberg Family Foundation Inc (Bloomberg Philanthropies): 20-5602483\n",
    "* The Larry Ellison Foundation: 94-3269827\n",
    "* Sheryl Sandberg and Dave Goldberg Family Foundation: 46-1194887\n",
    "* Carl Victor Page Memorial Foundation: 20-1922957\n",
    "* Ford Foundation: 13-1684331\n",
    "* Lilly Endowment: 35-0868122\n",
    "* Foundation to Promote Open Society (George Soros): 26-3753801\n",
    "* Robert Wood Johnson Foundation: 22-6029397\n",
    "* Rockefeller Foundation: 13-1659629\n",
    "* William and Flora Hewlett Foundation: 94-1655673\n",
    "\n",
    "The people who run the first five foundations listed below have signed [The Giving Pledge](https://givingpledge.org/About.aspx), an initiative launched 11 years ago by Bill Gates and Warren Buffett urging fellow billionaires to make a public commitment  to give away a majority of their personal fortunes within their lifetimes. This is not a new idea: In 1889, philanthropist Andrew Carnegie wrote \"The Gospel of Wealth,\" which called for those with exceptional resources to give away the majority of their wealth, during their lifetimes, to support community needs. Working in fundraising, I often wonder about the extent to which charitable foundations serve this goal, and whether or not they should. \n"
   ]
  },
  {
   "cell_type": "code",
   "execution_count": 3,
   "metadata": {},
   "outputs": [],
   "source": [
    "import json, requests\n",
    "\n",
    "def load_api_key():\n",
    "    \"\"\"reads in personal API key without printing the actual key for security\"\"\"\n",
    "    api_key = \" \"\n",
    "    with open(r\"C:\\Users\\racha\\Desktop\\Python2\\.gitignore\\apik_sec.json\", 'r') as sensitive_file:\n",
    "        s = json.loads(sensitive_file.read())\n",
    "        api_key = s['API_KEY']\n",
    "    return api_key"
   ]
  },
  {
   "cell_type": "code",
   "execution_count": 4,
   "metadata": {},
   "outputs": [],
   "source": [
    "def build_charity_url(ein):\n",
    "    \"\"\"takes in an employer ID number (EIN) and returns a url that can be used with Guidestar's API\"\"\"\n",
    "    API_endpoint = 'https://apidata.guidestar.org/premier/v3/'\n",
    "    ein_plus_key = \"%s?Subscription-Key=%s\" % (ein, load_api_key())\n",
    "    full_url = API_endpoint + ein_plus_key\n",
    "    return full_url"
   ]
  },
  {
   "cell_type": "code",
   "execution_count": 5,
   "metadata": {},
   "outputs": [],
   "source": [
    "def get_charity_990(url):\n",
    "    \"\"\"sends a request to Guidestar's API for information on a given organization, then converts the response from \n",
    "    JSON to Python\"\"\"\n",
    "    # send the request over the network and store response in resp\n",
    "    resp = requests.get(url)\n",
    "    # check for status code 200\n",
    "    if(int(resp.status_code) == 200):\n",
    "        # load API request response as Python\n",
    "        profile_objects = json.loads(resp.text)\n",
    "        return profile_objects\n",
    "    else:\n",
    "        raise Exception (\"Non-200 status code\")"
   ]
  },
  {
   "cell_type": "code",
   "execution_count": 6,
   "metadata": {},
   "outputs": [
    {
     "name": "stdout",
     "output_type": "stream",
     "text": [
      "Non-200 status code\n"
     ]
    }
   ],
   "source": [
    "# making sure this function can alert the user when invalid EINs are entered...\n",
    "try:\n",
    "    print(get_charity_990(build_charity_url(123456789)))\n",
    "except Exception as ex:\n",
    "    print(ex)"
   ]
  },
  {
   "cell_type": "code",
   "execution_count": 9,
   "metadata": {},
   "outputs": [],
   "source": [
    "def calc_charity_payout(profile_objects):\n",
    "    \"\"\"digs through a given charity's form 990 and calculates the percentage of assets donated to charity in the \n",
    "    most recent tax year\"\"\"\n",
    "    # peel back the layers of information on the organization's financial data\n",
    "    overview = profile_objects['data']\n",
    "    org_info = overview['summary']\n",
    "    org_name = org_info['organization_name']\n",
    "    print(org_name)\n",
    "    financials = overview['financials']\n",
    "    recent = financials['most_recent_year_financials']\n",
    "    grants = int(recent['expense_gifts_grants_paid'])\n",
    "    print(\"Total grants and contributions made: \", grants)\n",
    "\n",
    "    revenue = (recent['total_revenue'])\n",
    "    print(\"Total revenue: \", revenue)\n",
    "\n",
    "    assets = int(recent['assets_total'])\n",
    "    print(\"Total assets: \", assets)\n",
    "        \n",
    "    # print 'expense_gifts_grants_paid' as a percentage of 'assets_total'\n",
    "    assets_payout = grants / assets\n",
    "    assets_payout = \"{:.1%}\".format(assets_payout)\n",
    "    print(\"Percent of total assets paid to charity: \", assets_payout)\n",
    "        \n",
    "  "
   ]
  },
  {
   "cell_type": "markdown",
   "metadata": {},
   "source": [
    "Here's a demo of these three programs in action, calculating the percentage of total assets given to nonprofits via grants by the Chan Zuckerberg Initiative Foundation in their most recently reported tax year:"
   ]
  },
  {
   "cell_type": "code",
   "execution_count": 10,
   "metadata": {
    "scrolled": true
   },
   "outputs": [
    {
     "name": "stdout",
     "output_type": "stream",
     "text": [
      "Chan Zuckerberg Initiative Foundation\n",
      "Total grants and contributions made:  88239207\n",
      "Total revenue:  None\n",
      "Total assets:  4650890520\n",
      "Percent of total assets paid to charity:  1.9%\n"
     ]
    }
   ],
   "source": [
    "# Chan Zuckerberg Initiative Foundation\n",
    "calc_charity_payout(get_charity_990(build_charity_url('45-5002209')))"
   ]
  },
  {
   "cell_type": "markdown",
   "metadata": {},
   "source": [
    "What are giving rates like for some of our major local foundations?"
   ]
  },
  {
   "cell_type": "code",
   "execution_count": 7,
   "metadata": {},
   "outputs": [
    {
     "name": "stdout",
     "output_type": "stream",
     "text": [
      "Total grants and contributions made:  102066792\n",
      "Total revenue:  0.0\n",
      "Total assets:  2453031404\n",
      "Percent of total assets paid to charity:  4.2%\n"
     ]
    }
   ],
   "source": [
    "# Richard King Mellon Foundation ($2.5 billion in assets)\n",
    "calc_charity_payout(get_charity_990(build_charity_url('25-1127705')))"
   ]
  },
  {
   "cell_type": "code",
   "execution_count": 8,
   "metadata": {},
   "outputs": [
    {
     "name": "stdout",
     "output_type": "stream",
     "text": [
      "Total grants and contributions made:  53765366\n",
      "Total revenue:  0.0\n",
      "Total assets:  1634663959\n",
      "Percent of total assets paid to charity:  3.3%\n"
     ]
    }
   ],
   "source": [
    "# The Heinz Endowments ($1.6 billion in assets)\n",
    "calc_charity_payout(get_charity_990(build_charity_url('25-1721100')))"
   ]
  },
  {
   "cell_type": "code",
   "execution_count": 9,
   "metadata": {},
   "outputs": [
    {
     "name": "stdout",
     "output_type": "stream",
     "text": [
      "Total grants and contributions made:  41567640\n",
      "Total revenue:  None\n",
      "Total assets:  1397500779\n",
      "Percent of total assets paid to charity:  3.0%\n"
     ]
    }
   ],
   "source": [
    "# Hillman Family Foundations \n",
    "calc_charity_payout(get_charity_990(build_charity_url('25-6065959')))"
   ]
  },
  {
   "cell_type": "markdown",
   "metadata": {},
   "source": [
    "So far, only one foundation I've checked on through this API gave away more than 5% of its assets to charity in the most recent tax year: The Bill and Melinda Gates Foundation. \n",
    "\n",
    "The next stage of this analysis involves compiling these giving percentages among some of the largest private foundations in the country into a dataframe, finding the mean and median annual giving percentage, and then creating a visualization to map them out. "
   ]
  },
  {
   "cell_type": "markdown",
   "metadata": {},
   "source": [
    "To get a dataset for further analysis of annual charitable payout rates, [I found a list of the wealthiest foundations in the U.S.](http://data.foundationcenter.org/#/foundations/all/nationwide/top:assets/list/2010) I went through the top 28 (ranked by total assets) and excluded three of them for this analysis. I excluded two because they were public foundations (which are operated differently from private family foundations) and a third because it did not report its full assets in its tax form (W.K. Kellogg Foundation), thus throwing off the payout calculation as a percentage of foundation assets. \n",
    "\n",
    "This left me with 25 of the wealthiest private family foundations in the country (largest total assets). I created a dictionary of these foundation names and their giving rates using the three functions created above. I did all of this manually, one foundation at a time, which was arduous. I am working on a way to automate this to more easily expand the dataframe in the future. "
   ]
  },
  {
   "cell_type": "code",
   "execution_count": 2,
   "metadata": {},
   "outputs": [
    {
     "data": {
      "text/html": [
       "<div>\n",
       "<style scoped>\n",
       "    .dataframe tbody tr th:only-of-type {\n",
       "        vertical-align: middle;\n",
       "    }\n",
       "\n",
       "    .dataframe tbody tr th {\n",
       "        vertical-align: top;\n",
       "    }\n",
       "\n",
       "    .dataframe thead th {\n",
       "        text-align: right;\n",
       "    }\n",
       "</style>\n",
       "<table border=\"1\" class=\"dataframe\">\n",
       "  <thead>\n",
       "    <tr style=\"text-align: right;\">\n",
       "      <th></th>\n",
       "      <th>foundation_name</th>\n",
       "      <th>giving_percentage</th>\n",
       "    </tr>\n",
       "  </thead>\n",
       "  <tbody>\n",
       "    <tr>\n",
       "      <th>0</th>\n",
       "      <td>Bill and Melinda Gates Foundation</td>\n",
       "      <td>9.6</td>\n",
       "    </tr>\n",
       "    <tr>\n",
       "      <th>1</th>\n",
       "      <td>William and Flora Hewlett Foundation</td>\n",
       "      <td>4.8</td>\n",
       "    </tr>\n",
       "    <tr>\n",
       "      <th>2</th>\n",
       "      <td>David &amp; Lucile Packard Foundation</td>\n",
       "      <td>4.7</td>\n",
       "    </tr>\n",
       "    <tr>\n",
       "      <th>3</th>\n",
       "      <td>The John D. and Catherine T. MacArthur Foundation</td>\n",
       "      <td>4.7</td>\n",
       "    </tr>\n",
       "    <tr>\n",
       "      <th>4</th>\n",
       "      <td>Gordon &amp; Betty Moore Foundation</td>\n",
       "      <td>4.6</td>\n",
       "    </tr>\n",
       "    <tr>\n",
       "      <th>5</th>\n",
       "      <td>Ford Foundation</td>\n",
       "      <td>4.1</td>\n",
       "    </tr>\n",
       "    <tr>\n",
       "      <th>6</th>\n",
       "      <td>J. Paul Getty Trust</td>\n",
       "      <td>0.1</td>\n",
       "    </tr>\n",
       "    <tr>\n",
       "      <th>7</th>\n",
       "      <td>Robert Wood Johnson Foundation</td>\n",
       "      <td>3.7</td>\n",
       "    </tr>\n",
       "    <tr>\n",
       "      <th>8</th>\n",
       "      <td>The Andrew W. Mellon Foundation</td>\n",
       "      <td>4.8</td>\n",
       "    </tr>\n",
       "    <tr>\n",
       "      <th>9</th>\n",
       "      <td>Lilly Endowment, Inc.</td>\n",
       "      <td>3.4</td>\n",
       "    </tr>\n",
       "    <tr>\n",
       "      <th>10</th>\n",
       "      <td>The William Penn Foundation</td>\n",
       "      <td>4.6</td>\n",
       "    </tr>\n",
       "    <tr>\n",
       "      <th>11</th>\n",
       "      <td>The Rockefeller Foundation</td>\n",
       "      <td>3.7</td>\n",
       "    </tr>\n",
       "    <tr>\n",
       "      <th>12</th>\n",
       "      <td>The Leona M. and Harry B. Helmsley Charitable ...</td>\n",
       "      <td>4.6</td>\n",
       "    </tr>\n",
       "    <tr>\n",
       "      <th>13</th>\n",
       "      <td>Kresge Foundation</td>\n",
       "      <td>3.7</td>\n",
       "    </tr>\n",
       "    <tr>\n",
       "      <th>14</th>\n",
       "      <td>Foundation to Promote Open Society</td>\n",
       "      <td>4.8</td>\n",
       "    </tr>\n",
       "    <tr>\n",
       "      <th>15</th>\n",
       "      <td>The Annie E. Casey Foundation</td>\n",
       "      <td>3.6</td>\n",
       "    </tr>\n",
       "    <tr>\n",
       "      <th>16</th>\n",
       "      <td>The Duke Endowment</td>\n",
       "      <td>4.4</td>\n",
       "    </tr>\n",
       "    <tr>\n",
       "      <th>17</th>\n",
       "      <td>The Bloomberg Family Foundation, Inc.</td>\n",
       "      <td>4.9</td>\n",
       "    </tr>\n",
       "    <tr>\n",
       "      <th>18</th>\n",
       "      <td>Robert W. Woodruff Foundation, Inc.</td>\n",
       "      <td>3.4</td>\n",
       "    </tr>\n",
       "    <tr>\n",
       "      <th>19</th>\n",
       "      <td>The Susan Thompson Buffett Foundation</td>\n",
       "      <td>26.4</td>\n",
       "    </tr>\n",
       "    <tr>\n",
       "      <th>20</th>\n",
       "      <td>Carnegie Corporation of New York</td>\n",
       "      <td>4.5</td>\n",
       "    </tr>\n",
       "    <tr>\n",
       "      <th>21</th>\n",
       "      <td>Charles Stewart Mott Foundation</td>\n",
       "      <td>4.3</td>\n",
       "    </tr>\n",
       "    <tr>\n",
       "      <th>22</th>\n",
       "      <td>Conrad N. Hilton Foundation</td>\n",
       "      <td>4.0</td>\n",
       "    </tr>\n",
       "    <tr>\n",
       "      <th>23</th>\n",
       "      <td>John S. and James L. Night Foundation</td>\n",
       "      <td>4.4</td>\n",
       "    </tr>\n",
       "    <tr>\n",
       "      <th>24</th>\n",
       "      <td>The Harry and Jeanette Weinberg Foundation, Inc.</td>\n",
       "      <td>3.6</td>\n",
       "    </tr>\n",
       "  </tbody>\n",
       "</table>\n",
       "</div>"
      ],
      "text/plain": [
       "                                      foundation_name  giving_percentage\n",
       "0                   Bill and Melinda Gates Foundation                9.6\n",
       "1                William and Flora Hewlett Foundation                4.8\n",
       "2                   David & Lucile Packard Foundation                4.7\n",
       "3   The John D. and Catherine T. MacArthur Foundation                4.7\n",
       "4                     Gordon & Betty Moore Foundation                4.6\n",
       "5                                     Ford Foundation                4.1\n",
       "6                                 J. Paul Getty Trust                0.1\n",
       "7                      Robert Wood Johnson Foundation                3.7\n",
       "8                     The Andrew W. Mellon Foundation                4.8\n",
       "9                               Lilly Endowment, Inc.                3.4\n",
       "10                        The William Penn Foundation                4.6\n",
       "11                         The Rockefeller Foundation                3.7\n",
       "12  The Leona M. and Harry B. Helmsley Charitable ...                4.6\n",
       "13                                  Kresge Foundation                3.7\n",
       "14                 Foundation to Promote Open Society                4.8\n",
       "15                      The Annie E. Casey Foundation                3.6\n",
       "16                                 The Duke Endowment                4.4\n",
       "17              The Bloomberg Family Foundation, Inc.                4.9\n",
       "18                Robert W. Woodruff Foundation, Inc.                3.4\n",
       "19              The Susan Thompson Buffett Foundation               26.4\n",
       "20                   Carnegie Corporation of New York                4.5\n",
       "21                    Charles Stewart Mott Foundation                4.3\n",
       "22                        Conrad N. Hilton Foundation                4.0\n",
       "23              John S. and James L. Night Foundation                4.4\n",
       "24   The Harry and Jeanette Weinberg Foundation, Inc.                3.6"
      ]
     },
     "execution_count": 2,
     "metadata": {},
     "output_type": "execute_result"
    }
   ],
   "source": [
    "import pandas as pd\n",
    "\n",
    "def get_charity_df():\n",
    "    \"\"\"takes in a dictionary of foundation entity names and corresponding giving rates and converts the dict to \n",
    "    a pandas dataframe for analysis\"\"\"\n",
    "    \n",
    "    fdn_giving_rates = { 'foundation_name': ['Bill and Melinda Gates Foundation', 'William and Flora Hewlett Foundation', \n",
    "                    'David & Lucile Packard Foundation', 'The John D. and Catherine T. MacArthur Foundation', \n",
    "                    'Gordon & Betty Moore Foundation',  'Ford Foundation', 'J. Paul Getty Trust', 'Robert Wood Johnson Foundation', \n",
    "                    'The Andrew W. Mellon Foundation', 'Lilly Endowment, Inc.', 'The William Penn Foundation', 'The Rockefeller Foundation', \n",
    "                    'The Leona M. and Harry B. Helmsley Charitable Trust', 'Kresge Foundation', 'Foundation to Promote Open Society', \n",
    "                    'The Annie E. Casey Foundation', 'The Duke Endowment', 'The Bloomberg Family Foundation, Inc.', \n",
    "                    'Robert W. Woodruff Foundation, Inc.', 'The Susan Thompson Buffett Foundation', 'Carnegie Corporation of New York', \n",
    "                    'Charles Stewart Mott Foundation', 'Conrad N. Hilton Foundation', 'John S. and James L. Night Foundation', \n",
    "                    'The Harry and Jeanette Weinberg Foundation, Inc.'], \n",
    "                    'giving_percentage': [9.6, 4.8, 4.7, 4.7, 4.6, 4.1, 0.1, 3.7, 4.8, 3.4, 4.6, 3.7, 4.6, 3.7, 4.8, 3.6, \n",
    "                                         4.4, 4.9, 3.4, 26.4, 4.5, 4.3, 4.0, 4.4, 3.6]\n",
    "    \n",
    "    }\n",
    "    # To control for outliers and mismatched data, this list excludes private family foundations from the top 50 \n",
    "    # that underreport their assets on their tax forms (W.K. Kellogg Foundation)\n",
    "\n",
    "    charity_df = pd.DataFrame(data=fdn_giving_rates)\n",
    "    \n",
    "    return charity_df\n",
    "\n",
    "get_charity_df()"
   ]
  },
  {
   "cell_type": "markdown",
   "metadata": {},
   "source": [
    "Now, I can use pandas to quickly run descriptive statistics on these giving rates..."
   ]
  },
  {
   "cell_type": "code",
   "execution_count": 3,
   "metadata": {},
   "outputs": [
    {
     "data": {
      "text/html": [
       "<div>\n",
       "<style scoped>\n",
       "    .dataframe tbody tr th:only-of-type {\n",
       "        vertical-align: middle;\n",
       "    }\n",
       "\n",
       "    .dataframe tbody tr th {\n",
       "        vertical-align: top;\n",
       "    }\n",
       "\n",
       "    .dataframe thead th {\n",
       "        text-align: right;\n",
       "    }\n",
       "</style>\n",
       "<table border=\"1\" class=\"dataframe\">\n",
       "  <thead>\n",
       "    <tr style=\"text-align: right;\">\n",
       "      <th></th>\n",
       "      <th>giving_percentage</th>\n",
       "    </tr>\n",
       "  </thead>\n",
       "  <tbody>\n",
       "    <tr>\n",
       "      <th>count</th>\n",
       "      <td>25.000000</td>\n",
       "    </tr>\n",
       "    <tr>\n",
       "      <th>mean</th>\n",
       "      <td>5.176000</td>\n",
       "    </tr>\n",
       "    <tr>\n",
       "      <th>std</th>\n",
       "      <td>4.657099</td>\n",
       "    </tr>\n",
       "    <tr>\n",
       "      <th>min</th>\n",
       "      <td>0.100000</td>\n",
       "    </tr>\n",
       "    <tr>\n",
       "      <th>25%</th>\n",
       "      <td>3.700000</td>\n",
       "    </tr>\n",
       "    <tr>\n",
       "      <th>50%</th>\n",
       "      <td>4.400000</td>\n",
       "    </tr>\n",
       "    <tr>\n",
       "      <th>75%</th>\n",
       "      <td>4.700000</td>\n",
       "    </tr>\n",
       "    <tr>\n",
       "      <th>max</th>\n",
       "      <td>26.400000</td>\n",
       "    </tr>\n",
       "  </tbody>\n",
       "</table>\n",
       "</div>"
      ],
      "text/plain": [
       "       giving_percentage\n",
       "count          25.000000\n",
       "mean            5.176000\n",
       "std             4.657099\n",
       "min             0.100000\n",
       "25%             3.700000\n",
       "50%             4.400000\n",
       "75%             4.700000\n",
       "max            26.400000"
      ]
     },
     "execution_count": 3,
     "metadata": {},
     "output_type": "execute_result"
    }
   ],
   "source": [
    "df = get_charity_df()\n",
    "\n",
    "df.describe()"
   ]
  },
  {
   "cell_type": "markdown",
   "metadata": {},
   "source": [
    "The median for this dataset is more meaningful than the mean. All but two of the giving rates represented in this dataframe fall below the mean of 5.17%. The two above this percentage are upper-fence outliers, as shown in the boxplot below. \n",
    "\n",
    "Indeed the two outliers paying out more than the required 5% of assets annually are run by the folks who initiated The Giving Pledge, Bill Gates and Warren Buffett. The rest are choosing to operate in a more traditional way, paying out their assets at a rate that allows the foundation entity to exist in perpetuity. It should be noted for the foundations whose charitable giving rates fall below 5% that they are likely counting operating expenses toward their required 5% payout, such as staff salaries (this is legal).  "
   ]
  },
  {
   "cell_type": "code",
   "execution_count": 14,
   "metadata": {},
   "outputs": [
    {
     "data": {
      "image/png": "[encoded data removed]",
      "text/plain": [
       "<Figure size 1152x1152 with 1 Axes>"
      ]
     },
     "metadata": {
      "needs_background": "light"
     },
     "output_type": "display_data"
    }
   ],
   "source": [
    "from matplotlib import pyplot as plt\n",
    "\n",
    "def plot_giving_rate():\n",
    "    \"\"\"reads in the dataset of 25 foundation giving rates and returns a boxplot\"\"\"\n",
    "    # call previous function to store the top 25 dataframe to a local variable\n",
    "    df = get_charity_df()\n",
    "    \n",
    "    # adjust the figure size before specifying the plot you want\n",
    "    plt.figure(figsize=(16,16))\n",
    "    \n",
    "    # use pandas indexing to specify one column of the dataframe for plotting\n",
    "    df['giving_percentage'].plot(kind='box')\n",
    "    plt.xlabel('Top 25 Wealthiest Private U.S. Foundations', size=18)\n",
    "    plt.ylabel('% assets given to charity annually', size=18)\n",
    "    plt.title('Charitable Giving Rates of Wealthiest Private Foundations in Their Most Recently Reported Tax Year', size=18)\n",
    "\n",
    "plot_giving_rate()"
   ]
  },
  {
   "cell_type": "markdown",
   "metadata": {},
   "source": [
    "For future research, it would be interesting to expand the dataframe and look at 50-100 of the wealthiest private foundations in the U.S. Later on this calendar year or in 2022, I think it would be especially interesting to look at giving rates in the 2020 tax year for these foundations compared to previous years, to determine whether or not the largest foundations in the U.S. increased their payout rates in response to the needs that have emerged from the COVID-19 pandemic. "
   ]
  },
  {
   "cell_type": "code",
   "execution_count": null,
   "metadata": {},
   "outputs": [],
   "source": []
  }
 ],
 "metadata": {
  "kernelspec": {
   "display_name": "Python 3",
   "language": "python",
   "name": "python3"
  },
  "language_info": {
   "codemirror_mode": {
    "name": "ipython",
    "version": 3
   },
   "file_extension": ".py",
   "mimetype": "text/x-python",
   "name": "python",
   "nbconvert_exporter": "python",
   "pygments_lexer": "ipython3",
   "version": "3.8.3"
  }
 },
 "nbformat": 4,
 "nbformat_minor": 4
}
