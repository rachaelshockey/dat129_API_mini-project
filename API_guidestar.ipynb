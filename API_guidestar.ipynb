{
 "cells": [
  {
   "cell_type": "markdown",
   "metadata": {},
   "source": [
    "# Annual Charitable Giving Rates among U.S. Foundations - A Guidestar API Demo"
   ]
  },
  {
   "cell_type": "markdown",
   "metadata": {},
   "source": [
    "In the U.S. philanthropic realm, there is a well-known tax rule applied to foundations known as the \"Five Percent Payout Rule.\" [The Council on Foundations describes offers the following definition](https://www.ncfp.org/wp-content/uploads/2018/09/The-Five-Percent-Minimum-Payout-Requirement-COF-2000-the-five-percent-minimum-payout-requirement.pdf):\n",
    "\n",
    "> Each year every private foundation must make eligible charitable expenditures that equal or exceed approximately 5\n",
    "> percent of the value of its endowment. The word \"payout\" while convenient is somewhat misleading and is not used in the   > Tax Code section that creates the rule. The word \"payout\" suggests grants or contributions paid out to other charities.  > Although these grants normally make up more than 93 percent of the expenditures of most foundations, many other expenses  > can also qualify in meeting the minimum payout requirement. In short, the 5 percent payout rule need not be satisfied\n",
    "> solely with grants.\n",
    "\n",
    "The program below uses an [API from Guidestar](https://apiportal.guidestar.org/api-static-documentation-v2)--a free charity watchdog service that is widely used by funders and charities alike--to parse a given foundation's tax forms (Form 990) to determine what percentage of a foundation's assets was donated to charity in their most recently reported tax year. \n",
    "\n",
    "As explained in the quote above, because a foundation's total expenses reported on their tax forms may include non-charitable expenses (i.e. their own operating costs can count toward the 5% payout), we have to dig a little deeper in the 990 to find the actual amount paid out to charities. A form 990 can be a very dense document to sift through. The Guidestar API makes it much easier to find specific indicators of a charity's financial practices and overall health. To search for a specific charity, the only piece of information you need to provide is the organization's IRS-issued employer identification number, known as an EIN. "
   ]
  },
  {
   "cell_type": "markdown",
   "metadata": {},
   "source": [
    "To test this out and create a sampling of charitable giving rates, I looked up the EINs for some of the largest charitable foundations in the U.S.  \n",
    "\n",
    "* Bill and Melinda Gates Foundation: 56-2618866\n",
    "* Chan Zuckerberg Initiative Foundation: 45-5002209\n",
    "* Bloomberg Family Foundation Inc (Bloomberg Philanthropies): 20-5602483\n",
    "* The Larry Ellison Foundation: 94-3269827\n",
    "* Sheryl Sandberg and Dave Goldberg Family Foundation: 46-1194887\n",
    "* Carl Victor Page Memorial Foundation: 20-1922957\n",
    "* Ford Foundation: 13-1684331\n",
    "* Lilly Endowment: 35-0868122\n",
    "* Foundation to Promote Open Society (George Soros): 26-3753801\n",
    "* Robert Wood Johnson Foundation: 22-6029397\n",
    "* Rockefeller Foundation: 13-1659629\n",
    "* William and Flora Hewlett Foundation: 94-1655673\n",
    "\n",
    "The people who run the first five foundations listed below have signed [The Giving Pledge](https://givingpledge.org/About.aspx), an initiative launched 11 years ago by Bill Gates and Warren Buffett urging fellow billionaires to make a public commitment  to give away a majority of their personal fortunes within their lifetimes. This is not a new idea: In 1889, philanthropist Andrew Carnegie wrote \"The Gospel of Wealth,\" which called for those with exceptional resources to give away the majority of their wealth, during their lifetimes, to support community needs. Working in fundraising, I often wonder about the extent to which charitable foundations serve this goal, and whether or not they should. \n"
   ]
  },
  {
   "cell_type": "code",
   "execution_count": 1,
   "metadata": {},
   "outputs": [],
   "source": [
    "import json\n",
    "\n",
    "def load_api_key():\n",
    "    \"\"\"reads in personal API key without printing the actual key for security\"\"\"\n",
    "    api_key = \" \"\n",
    "    with open(r\"C:\\Users\\racha\\Desktop\\Python2\\.gitignore\\apik_sec.json\", 'r') as sensitive_file:\n",
    "        s = json.loads(sensitive_file.read())\n",
    "        api_key = s['API_KEY']\n",
    "    return api_key\n",
    "\n"
   ]
  },
  {
   "cell_type": "code",
   "execution_count": 2,
   "metadata": {},
   "outputs": [],
   "source": [
    "def build_charity_url(ein):\n",
    "    \"\"\"takes in an employer ID number (EIN) and returns a url that can be used with Guidestar's API\"\"\"\n",
    "    API_endpoint = 'https://apidata.guidestar.org/premier/v3/'\n",
    "    ein_plus_key = \"%s?Subscription-Key=%s\" % (ein, load_api_key())\n",
    "    full_url = API_endpoint + ein_plus_key\n",
    "    return full_url"
   ]
  },
  {
   "cell_type": "code",
   "execution_count": 3,
   "metadata": {},
   "outputs": [],
   "source": [
    "import json, requests\n",
    "\n",
    "def get_charity_990(url):\n",
    "    \"\"\"sends a request to Guidestar's API for information on a given organization, then converts the response from \n",
    "    JSON to Python\"\"\"\n",
    "    # send the request over the network and store response in resp\n",
    "    resp = requests.get(url)\n",
    "    # check for status code 200\n",
    "    if(int(resp.status_code) == 200):\n",
    "        # load API request response as Python\n",
    "        profile_objects = json.loads(resp.text)\n",
    "        return profile_objects\n",
    "    else:\n",
    "        return None\n",
    "    "
   ]
  },
  {
   "cell_type": "code",
   "execution_count": 4,
   "metadata": {},
   "outputs": [],
   "source": [
    "def calc_charity_payout(profile_objects):\n",
    "    \"\"\"digs through a given charity's form 990 and calculates the percentage of assets donated to charity in the \n",
    "    most recent tax year\"\"\"\n",
    "    # peel back the layers of information on the organization's financial data\n",
    "    overview = profile_objects['data']\n",
    "    financials = overview['financials']\n",
    "    recent = financials['most_recent_year_financials']\n",
    "    grants = int(recent['expense_gifts_grants_paid'])\n",
    "    print(\"Total grants and contributions made: \", grants)\n",
    "\n",
    "    revenue = (recent['total_revenue'])\n",
    "    print(\"Total revenue: \", revenue)\n",
    "\n",
    "    assets = int(recent['assets_total'])\n",
    "    print(\"Total assets: \", assets)\n",
    "        \n",
    "    # print 'expense_gifts_grants_paid' as a percentage of 'assets_total'\n",
    "    assets_payout = grants / assets\n",
    "    assets_payout = \"{:.1%}\".format(assets_payout)\n",
    "    print(\"Percent of total assets paid to charity: \", assets_payout)\n",
    "        \n",
    "  "
   ]
  },
  {
   "cell_type": "code",
   "execution_count": 5,
   "metadata": {},
   "outputs": [
    {
     "name": "stdout",
     "output_type": "stream",
     "text": [
      "Total grants and contributions made:  4607760270\n",
      "Total revenue:  None\n",
      "Total assets:  47850466255\n",
      "Percent of total assets paid to charity:  9.6%\n"
     ]
    }
   ],
   "source": [
    "# Bill & Melinda Gates Foundation\n",
    "calc_charity_payout(get_charity_990(build_charity_url('56-2618866')))"
   ]
  },
  {
   "cell_type": "markdown",
   "metadata": {},
   "source": [
    "What are giving rates like for some of our major local foundations?"
   ]
  },
  {
   "cell_type": "code",
   "execution_count": 7,
   "metadata": {},
   "outputs": [
    {
     "name": "stdout",
     "output_type": "stream",
     "text": [
      "Total grants and contributions made:  102066792\n",
      "Total revenue:  0.0\n",
      "Total assets:  2453031404\n",
      "Percent of total assets paid to charity:  4.2%\n"
     ]
    }
   ],
   "source": [
    "# Richard King Mellon Foundation ($2.5 billion in assets)\n",
    "calc_charity_payout(get_charity_990(build_charity_url('25-1127705')))"
   ]
  },
  {
   "cell_type": "code",
   "execution_count": 8,
   "metadata": {},
   "outputs": [
    {
     "name": "stdout",
     "output_type": "stream",
     "text": [
      "Total grants and contributions made:  53765366\n",
      "Total revenue:  0.0\n",
      "Total assets:  1634663959\n",
      "Percent of total assets paid to charity:  3.3%\n"
     ]
    }
   ],
   "source": [
    "# The Heinz Endowments ($1.6 billion in assets)\n",
    "calc_charity_payout(get_charity_990(build_charity_url('25-1721100')))"
   ]
  },
  {
   "cell_type": "code",
   "execution_count": 9,
   "metadata": {},
   "outputs": [
    {
     "name": "stdout",
     "output_type": "stream",
     "text": [
      "Total grants and contributions made:  41567640\n",
      "Total revenue:  None\n",
      "Total assets:  1397500779\n",
      "Percent of total assets paid to charity:  3.0%\n"
     ]
    }
   ],
   "source": [
    "# Hillman Family Foundations \n",
    "calc_charity_payout(get_charity_990(build_charity_url('25-6065959')))"
   ]
  },
  {
   "cell_type": "markdown",
   "metadata": {},
   "source": [
    "So far, only one foundation I've checked on through this API gave away more than 5% of its assets to charity in the most recent tax year: The Bill and Melinda Gates Foundation. What I'd like to do next is compile these giving percentages into a dataframe, find the mean and median annual giving percentage, and then create a visualization to map them out. "
   ]
  },
  {
   "cell_type": "code",
   "execution_count": null,
   "metadata": {},
   "outputs": [],
   "source": []
  }
 ],
 "metadata": {
  "kernelspec": {
   "display_name": "Python 3",
   "language": "python",
   "name": "python3"
  },
  "language_info": {
   "codemirror_mode": {
    "name": "ipython",
    "version": 3
   },
   "file_extension": ".py",
   "mimetype": "text/x-python",
   "name": "python",
   "nbconvert_exporter": "python",
   "pygments_lexer": "ipython3",
   "version": "3.8.3"
  }
 },
 "nbformat": 4,
 "nbformat_minor": 4
}
